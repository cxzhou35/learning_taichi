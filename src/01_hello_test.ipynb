{
 "cells": [
  {
   "cell_type": "code",
   "execution_count": 13,
   "metadata": {},
   "outputs": [],
   "source": [
    "import taichi as ti\n",
    "import taichi.math as tm"
   ]
  },
  {
   "cell_type": "code",
   "execution_count": 14,
   "metadata": {},
   "outputs": [
    {
     "name": "stdout",
     "output_type": "stream",
     "text": [
      "[Taichi] Starting on arch=cuda\n"
     ]
    },
    {
     "data": {
      "text/plain": [
       "'\\n1. `arch`: Choose backend (cpu, cuda, metal, opengl)\\n2. `gdb_trigger`: Enable/disable GDB when Taichi crashes.\\n'"
      ]
     },
     "execution_count": 14,
     "metadata": {},
     "output_type": "execute_result"
    }
   ],
   "source": [
    "# Initializes the Taichi runtime.\n",
    "ti.init(arch=ti.gpu, gdb_trigger=True)\n",
    "\n",
    "\"\"\"\n",
    "1. `arch`: Choose backend (cpu, cuda, metal, opengl)\n",
    "2. `gdb_trigger`: Enable/disable GDB when Taichi crashes.\n",
    "\"\"\""
   ]
  },
  {
   "cell_type": "code",
   "execution_count": 15,
   "metadata": {},
   "outputs": [
    {
     "name": "stdout",
     "output_type": "stream",
     "text": [
      "shape of pixels: (640, 320)\n",
      "first element of pixels: 0.0\n"
     ]
    }
   ],
   "source": [
    "n = 320\n",
    "pixels = ti.field(dtype=float, shape=(n * 2, n))\n",
    "\n",
    "# Create a dense two-dimensional array\n",
    "# ti.filed is similar to numpy ndarray or pytorch tensor\n",
    "# Utilize indices to iterate over a field\n",
    "\n",
    "print(f\"shape of pixels: {pixels.shape}\")\n",
    "print(f\"first element of pixels: {pixels[0, 0]}\")"
   ]
  },
  {
   "cell_type": "code",
   "execution_count": 16,
   "metadata": {},
   "outputs": [
    {
     "data": {
      "text/plain": [
       "'\\nTaichi function:\\n1. Can only be invoked within kernels or other Taichi functions.\\n2. Do not require type hinting\\n3. Corresponds to the __device__ in CUDA\\n'"
      ]
     },
     "execution_count": 16,
     "metadata": {},
     "output_type": "execute_result"
    }
   ],
   "source": [
    "@ti.func\n",
    "def complex_sqr(z):  # complex square of a 2D vector\n",
    "    return tm.vec2(z[0] * z[0] - z[1] * z[1], 2 * z[0] * z[1])\n",
    "\n",
    "\"\"\"\n",
    "Taichi function:\n",
    "1. Can only be invoked within kernels or other Taichi functions.\n",
    "2. Do not require type hinting\n",
    "3. Corresponds to the __device__ in CUDA\n",
    "\"\"\""
   ]
  },
  {
   "cell_type": "code",
   "execution_count": 17,
   "metadata": {},
   "outputs": [
    {
     "data": {
      "text/plain": [
       "'\\nTaichi kernel:\\n1. Serve as the entry points for Taichi to take over the execution\\n2. The arguments and return values of Taichi kernels must be type hinted\\n3. Corresponds to the __global__ in CUDA\\n4. Any for loop at the outermost scope within a kernel is automatically parallelized\\n'"
      ]
     },
     "execution_count": 17,
     "metadata": {},
     "output_type": "execute_result"
    }
   ],
   "source": [
    "@ti.kernel\n",
    "def paint(t: float):\n",
    "    for i, j in pixels:  # Parallelized over all pixels\n",
    "        c = tm.vec2(-0.8, tm.cos(t) * 0.2)\n",
    "        z = tm.vec2(i / n - 1, j / n - 0.5) * 2\n",
    "        iterations = 0\n",
    "        while z.norm() < 20 and iterations < 50:\n",
    "            z = complex_sqr(z) + c\n",
    "            iterations += 1\n",
    "        pixels[i, j] = 1 - iterations * 0.02  #? Can we modify the pixels in for loop directly?\n",
    "\n",
    "\"\"\"\n",
    "Taichi kernel:\n",
    "1. Serve as the entry points for Taichi to take over the execution\n",
    "2. The arguments and return values of Taichi kernels must be type hinted\n",
    "3. Corresponds to the __global__ in CUDA\n",
    "4. Any for loop at the outermost scope within a kernel is automatically parallelized\n",
    "\"\"\""
   ]
  },
  {
   "cell_type": "code",
   "execution_count": 18,
   "metadata": {},
   "outputs": [],
   "source": [
    "# Don't test due to the X11 issue in server\n",
    "# gui = ti.GUI(\"Julia Set\", res=(n * 2, n))\n",
    "\n",
    "# i = 0\n",
    "# while gui.running:\n",
    "#     paint(i * 0.03)\n",
    "#     gui.set_image(pixels)\n",
    "#     gui.show()\n",
    "#     i += 1"
   ]
  },
  {
   "cell_type": "code",
   "execution_count": 19,
   "metadata": {},
   "outputs": [],
   "source": [
    "# !ti gallery"
   ]
  },
  {
   "cell_type": "code",
   "execution_count": 20,
   "metadata": {},
   "outputs": [],
   "source": [
    "#!ti example -p fractal"
   ]
  }
 ],
 "metadata": {
  "kernelspec": {
   "display_name": "taichi",
   "language": "python",
   "name": "python3"
  },
  "language_info": {
   "codemirror_mode": {
    "name": "ipython",
    "version": 3
   },
   "file_extension": ".py",
   "mimetype": "text/x-python",
   "name": "python",
   "nbconvert_exporter": "python",
   "pygments_lexer": "ipython3",
   "version": "3.9.19"
  }
 },
 "nbformat": 4,
 "nbformat_minor": 2
}
