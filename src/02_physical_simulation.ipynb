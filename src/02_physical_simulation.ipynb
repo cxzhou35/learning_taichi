{
 "cells": [
  {
   "cell_type": "code",
   "execution_count": 1,
   "metadata": {},
   "outputs": [
    {
     "name": "stdout",
     "output_type": "stream",
     "text": [
      "[Taichi] version 1.7.2, llvm 15.0.4, commit 0131dce9, linux, python 3.9.19\n"
     ]
    },
    {
     "name": "stderr",
     "output_type": "stream",
     "text": [
      "[I 08/27/24 22:13:56.008 4004400] [shell.py:_shell_pop_print@23] Graphical python shell detected, using wrapped sys.stdout\n"
     ]
    }
   ],
   "source": [
    "import taichi as ti\n",
    "import taichi.math as tm"
   ]
  },
  {
   "cell_type": "code",
   "execution_count": null,
   "metadata": {},
   "outputs": [
    {
     "name": "stdout",
     "output_type": "stream",
     "text": [
      "[Taichi] Starting on arch=cuda\n"
     ]
    }
   ],
   "source": [
    "!export CUDA_VISIBLE_DEVICES=0\n",
    "\n",
    "ti.init(arch=ti.cuda)"
   ]
  },
  {
   "cell_type": "code",
   "execution_count": 3,
   "metadata": {},
   "outputs": [],
   "source": [
    "n = 128\n",
    "dt = 4e-2 / n\n",
    "# x is an n x n field consisting of 3D floating-point vectors\n",
    "# representing the mass points' positions\n",
    "x = ti.Vector.field(3, dtype=float, shape=(n, n))\n",
    "# v is an n x n field consisting of 3D floating-point vectors\n",
    "# representing the mass points' velocities\n",
    "v = ti.Vector.field(3, dtype=float, shape=(n, n))\n",
    "\n",
    "#? WHat's difference between ti.Vector.field and ti.field?"
   ]
  },
  {
   "cell_type": "code",
   "execution_count": 4,
   "metadata": {},
   "outputs": [],
   "source": [
    "# The n x n grid is normalized\n",
    "# The distance between two x- or z-axis adjacent points is 1.0 / n\n",
    "quad_size = 1.0 / n\n",
    "\n",
    "# The @ti.kernel decorator instructs Taichi to\n",
    "# automatically parallelize all top-level for loops inside initialize_mass_points()\n",
    "@ti.kernel\n",
    "def initialize_mass_points():\n",
    "    # A random offset to apply to each mass point\n",
    "    random_offset = ti.Vector([ti.random() - 0.5, ti.random() - 0.5]) * 0.1\n",
    "\n",
    "    # Field x stores the mass points' positions\n",
    "    for i, j in x:\n",
    "        # The piece of cloth is 0.6 (y-axis) above the original point\n",
    "        #\n",
    "        # By taking away 0.5 from each mass point's [x,z] coordinate value\n",
    "        # you move the cloth right above the original point\n",
    "        x[i, j] = [\n",
    "            i * quad_size - 0.5 + random_offset[0], 0.6,\n",
    "            j * quad_size - 0.5 + random_offset[1]\n",
    "        ]\n",
    "        # The initial velocity of each mass point is set to 0\n",
    "        v[i, j] = [0, 0, 0]"
   ]
  },
  {
   "cell_type": "code",
   "execution_count": 5,
   "metadata": {},
   "outputs": [],
   "source": [
    "ball_radius = 0.3\n",
    "# Use a 1D field for storing the position of the ball center\n",
    "# The only element in the field is a 3-dimentional floating-point vector\n",
    "ball_center = ti.Vector.field(3, dtype=float, shape=(1, ))\n",
    "# Place the ball center at the original point\n",
    "ball_center[0] = [0, 0, 0]"
   ]
  },
  {
   "cell_type": "code",
   "execution_count": 9,
   "metadata": {},
   "outputs": [],
   "source": [
    "# Gravity is a force applied in the negative direction of the y axis,\n",
    "# and so is set to [0, -9.8, 0]\n",
    "gravity = ti.Vector([0, -9.8, 0])\n",
    "\n",
    "# The @ti.kernel decorator instructs Taichi to\n",
    "# automatically parallelize all top-level for loops\n",
    "# inside substep()\n",
    "@ti.kernel\n",
    "def substep():\n",
    "    # The for loop iterates over all elements of the field v\n",
    "    for i in ti.grouped(x):\n",
    "        v[i] += gravity * dt\n",
    "\n",
    "\"\"\"\n",
    "`for i in ti.grouped(x)`\n",
    "It means that this for loop automatically traverses all the elements of x as a 1D array regardless of its shape\n",
    "\"\"\"\n",
    "\n",
    "@ti.kernel\n",
    "def test_grouped():\n",
    "    for i in ti.grouped(x):\n",
    "        print(f\"the indices of x are {i}\")\n",
    "\n",
    "test_grouped()\n",
    "#? Why can't use python print function in the kernel function?"
   ]
  },
  {
   "cell_type": "code",
   "execution_count": null,
   "metadata": {},
   "outputs": [],
   "source": []
  }
 ],
 "metadata": {
  "kernelspec": {
   "display_name": "taichi",
   "language": "python",
   "name": "python3"
  },
  "language_info": {
   "codemirror_mode": {
    "name": "ipython",
    "version": 3
   },
   "file_extension": ".py",
   "mimetype": "text/x-python",
   "name": "python",
   "nbconvert_exporter": "python",
   "pygments_lexer": "ipython3",
   "version": "3.9.19"
  }
 },
 "nbformat": 4,
 "nbformat_minor": 2
}
